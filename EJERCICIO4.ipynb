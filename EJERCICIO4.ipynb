{
  "nbformat": 4,
  "nbformat_minor": 0,
  "metadata": {
    "colab": {
      "provenance": [],
      "authorship_tag": "ABX9TyMLVkXxH4nn9H76Bjpu/+Ng",
      "include_colab_link": true
    },
    "kernelspec": {
      "name": "python3",
      "display_name": "Python 3"
    },
    "language_info": {
      "name": "python"
    }
  },
  "cells": [
    {
      "cell_type": "markdown",
      "metadata": {
        "id": "view-in-github",
        "colab_type": "text"
      },
      "source": [
        "<a href=\"https://colab.research.google.com/github/SARAYMG/PARADIGMAS-DE-PROGRAMACI-N/blob/main/EJERCICIO4.ipynb\" target=\"_parent\"><img src=\"https://colab.research.google.com/assets/colab-badge.svg\" alt=\"Open In Colab\"/></a>"
      ]
    },
    {
      "cell_type": "markdown",
      "source": [
        "#EJERCICIO DE LABORATORIO 4\n",
        "\n",
        "El primer ejercicio es duplicar los valores de una lista, por lo que creamos en un primer inicio la función y despues creamos un ejemplo de uso donde:\n",
        "\n",
        "*   La función duplicar_lista recibe una lista como entrada.\n",
        "*   Utiliza la función map junto con una expresión lambda para aplicar la\n",
        "    operación de multiplicar cada elemento por 2 a todos los elementos de la lista.\n",
        "*   Retorna una nueva lista con los elementos duplicados.\n",
        "\n"
      ],
      "metadata": {
        "id": "-jH0D8cC545e"
      }
    },
    {
      "cell_type": "code",
      "execution_count": 1,
      "metadata": {
        "colab": {
          "base_uri": "https://localhost:8080/"
        },
        "id": "gPFvHb765fYt",
        "outputId": "00ccc98e-f29e-46d3-85f2-61639a2807ac"
      },
      "outputs": [
        {
          "output_type": "stream",
          "name": "stdout",
          "text": [
            "Lista original: [1, 2, 3, 4, 5]\n",
            "Lista duplicada: [2, 4, 6, 8, 10]\n"
          ]
        }
      ],
      "source": [
        "# Duplicar los valores de los elementos de una lista\n",
        "def duplicar_lista(lista):\n",
        "    return list(map(lambda x: x*2, lista))\n",
        "\n",
        "# Ejemplo de uso\n",
        "lista_original = [1, 2, 3, 4, 5]\n",
        "lista_duplicada = duplicar_lista(lista_original)\n",
        "print(\"Lista original:\", lista_original)\n",
        "print(\"Lista duplicada:\", lista_duplicada)"
      ]
    },
    {
      "cell_type": "markdown",
      "source": [
        "En el segundo ejercicio es sumar dos listas al igual que el caso anterior generamos la función y despues creamos el ejemplo de uso donde:\n",
        "\n",
        "*   La función sumar_listas recibe dos\n",
        "    listas como entrada.\n",
        "*   Utiliza la función map junto con una\n",
        "    expresión lambda para sumar elemento por elemento de las dos listas.\n",
        "*   Retorna una nueva lista con los\n",
        "    elementos sumados.\n",
        "\n",
        "\n",
        "\n"
      ],
      "metadata": {
        "id": "cfBijGgD71IG"
      }
    },
    {
      "cell_type": "code",
      "source": [
        "# Sumar dos listas\n",
        "def sumar_listas(lista1, lista2):\n",
        "    return list(map(lambda x, y: x + y, lista1, lista2))\n",
        "\n",
        "# Ejemplo de uso\n",
        "lista1 = [1, 2, 3]\n",
        "lista2 = [4, 5, 6]\n",
        "resultado_suma = sumar_listas(lista1, lista2)\n",
        "print(\"Lista 1:\", lista1)\n",
        "print(\"Lista 2:\", lista2)\n",
        "print(\"Resultado de la suma:\", resultado_suma)"
      ],
      "metadata": {
        "colab": {
          "base_uri": "https://localhost:8080/"
        },
        "id": "UnMISsRA_SVq",
        "outputId": "76e82f27-33a2-4ca4-9743-6e9e96c4039c"
      },
      "execution_count": 2,
      "outputs": [
        {
          "output_type": "stream",
          "name": "stdout",
          "text": [
            "Lista 1: [1, 2, 3]\n",
            "Lista 2: [4, 5, 6]\n",
            "Resultado de la suma: [5, 7, 9]\n"
          ]
        }
      ]
    },
    {
      "cell_type": "markdown",
      "source": [
        "En el tercer ejercicio es duplicar un numero si es par y tripicarlo si es impar al igual que en el caso anterior generamos la funcion y despues el ejemplo de uso donde:\n",
        "\n",
        "*   La función duplicar_triplicar recibe\n",
        "    un número como entrada.\n",
        "*   Utiliza una expresión condicional en\n",
        "    una expresión lambda para duplicar el número si es par (numero % 2 == 0) y triplicarlo si es impar.\n",
        "*   Retorna el número duplicado o\n",
        "    triplicado.\n",
        "*   La función map aplica esta función a\n",
        "    cada elemento de la lista de entrada.\n",
        "\n",
        "\n",
        "\n"
      ],
      "metadata": {
        "id": "9_TcgQHW_Y3x"
      }
    },
    {
      "cell_type": "code",
      "source": [
        "# Duplicar un número si es par y triplicarlo si es impar\n",
        "def duplicar_triplicar(numero):\n",
        "    return numero * 2 if numero % 2 == 0 else numero * 3\n",
        "\n",
        "# Ejemplo de uso\n",
        "numeros = [1, 2, 3, 4, 5]\n",
        "resultado = list(map(duplicar_triplicar, numeros))\n",
        "print(\"Números originales:\", numeros)\n",
        "print(\"Resultado:\", resultado)"
      ],
      "metadata": {
        "colab": {
          "base_uri": "https://localhost:8080/"
        },
        "id": "ZalEqoqs_53h",
        "outputId": "31253321-0983-40a7-e226-1fa18dfa037b"
      },
      "execution_count": 3,
      "outputs": [
        {
          "output_type": "stream",
          "name": "stdout",
          "text": [
            "Números originales: [1, 2, 3, 4, 5]\n",
            "Resultado: [3, 4, 9, 8, 15]\n"
          ]
        }
      ]
    },
    {
      "cell_type": "markdown",
      "source": [
        "En el cuarto ejercicio es encontrar las vocales de una cadena de texto al igual que en el caso anterior generamos la funcion y despues el ejemplo de uso donde:\n",
        "*   La función encontrar_vocales recibe\n",
        "    una cadena como entrada.\n",
        "*   Define una cadena de vocales.\n",
        "*   Utiliza la función filter junto con\n",
        "    una expresión lambda para filtrar los caracteres de la cadena que sean vocales.\n",
        "*   Retorna una lista con las vocales\n",
        "    encontradas en la cadena.\n",
        "\n"
      ],
      "metadata": {
        "id": "on2lR4OSApqq"
      }
    },
    {
      "cell_type": "code",
      "source": [
        "# Encontrar las vocales de una cadena de texto\n",
        "def encontrar_vocales(cadena):\n",
        "    vocales = 'aeiouAEIOU'\n",
        "    return list(filter(lambda x: x in vocales, cadena))\n",
        "\n",
        "# Ejemplo de uso\n",
        "cadena = \"Hola, cómo estás?\"\n",
        "vocales_encontradas = encontrar_vocales(cadena)\n",
        "print(\"Cadena original:\", cadena)\n",
        "print(\"Vocales encontradas:\", vocales_encontradas)"
      ],
      "metadata": {
        "colab": {
          "base_uri": "https://localhost:8080/"
        },
        "id": "feq2c_2-BKiN",
        "outputId": "19b28e2a-cb99-4649-a8cb-c24fcee2e4de"
      },
      "execution_count": 4,
      "outputs": [
        {
          "output_type": "stream",
          "name": "stdout",
          "text": [
            "Cadena original: Hola, cómo estás?\n",
            "Vocales encontradas: ['o', 'a', 'o', 'e']\n"
          ]
        }
      ]
    },
    {
      "cell_type": "markdown",
      "source": [
        "En el quinto ejercicio es encontrar aquellos valores de una lista que sean divisibles entre 3 al igual que en el caso anterior generamos la funcion y despues el ejemplo de uso donde:\n",
        "*   La función divisibles_entre_3 recibe\n",
        "    una lista de números como entrada.\n",
        "*   Utiliza la función filter junto con\n",
        "    una expresión lambda para filtrar los elementos de la lista que sean divisibles entre 3.\n",
        "*   Retorna una lista con los números\n",
        "    divisibles entre 3.\n",
        "\n",
        "\n"
      ],
      "metadata": {
        "id": "EtUT1bSNBPdz"
      }
    },
    {
      "cell_type": "code",
      "source": [
        "# Encontrar aquellos valores de una lista que sean divisibles entre 3\n",
        "def divisibles_entre_3(lista):\n",
        "    return list(filter(lambda x: x % 3 == 0, lista))\n",
        "\n",
        "# Ejemplo de uso\n",
        "numeros = [1, 2, 3, 4, 5, 6, 7, 8, 9]\n",
        "divisibles = divisibles_entre_3(numeros)\n",
        "print(\"Lista original:\", numeros)\n",
        "print(\"Divisibles entre 3:\", divisibles)"
      ],
      "metadata": {
        "colab": {
          "base_uri": "https://localhost:8080/"
        },
        "id": "AG-xAbNSBwDp",
        "outputId": "373b5ceb-1a0a-4fea-a390-d0e46db23cd3"
      },
      "execution_count": 5,
      "outputs": [
        {
          "output_type": "stream",
          "name": "stdout",
          "text": [
            "Lista original: [1, 2, 3, 4, 5, 6, 7, 8, 9]\n",
            "Divisibles entre 3: [3, 6, 9]\n"
          ]
        }
      ]
    },
    {
      "cell_type": "markdown",
      "source": [
        "En el sexto ejercicio es crear una lista de listas a partir de una lista de entradas al igual que en el caso anterior generamos la funcion y despues el ejemplo de uso donde:\n",
        "*   La función lista_de_listas recibe  \n",
        "    una lista como entrada.\n",
        "*   Utiliza la función map junto con la\n",
        "    función list para convertir cada elemento de la lista de entrada en una lista individual.\n",
        "*   Retorna una lista de listas donde\n",
        "    cada sublista contiene un solo elemento de la lista de entrada.\n",
        "\n"
      ],
      "metadata": {
        "id": "zdndLzQ_B4RX"
      }
    },
    {
      "cell_type": "code",
      "source": [
        "# Crear una lista de listas a partir de una lista de entrada\n",
        "def lista_de_listas(lista):\n",
        "    return list(map(list, lista))\n",
        "\n",
        "# Ejemplo de uso\n",
        "entrada = ['sat', 'bat', 'cat', 'mat']\n",
        "salida = lista_de_listas(entrada)\n",
        "print(\"Entrada:\", entrada)\n",
        "print(\"Salida:\", salida)"
      ],
      "metadata": {
        "colab": {
          "base_uri": "https://localhost:8080/"
        },
        "id": "kzrNJV8wCSly",
        "outputId": "a7b9d037-2232-4b23-b1c0-eb0d2084f59c"
      },
      "execution_count": 6,
      "outputs": [
        {
          "output_type": "stream",
          "name": "stdout",
          "text": [
            "Entrada: ['sat', 'bat', 'cat', 'mat']\n",
            "Salida: [['s', 'a', 't'], ['b', 'a', 't'], ['c', 'a', 't'], ['m', 'a', 't']]\n"
          ]
        }
      ]
    }
  ]
}